{
 "cells": [
  {
   "cell_type": "markdown",
   "metadata": {},
   "source": [
    "# School prediction\n",
    "\n",
    "Build a Naive Bayes Classifier that can predict whether a student can be admitted by the Computer Science Ph.D. program, University of Rochester, according to his/her (TOEFL, GRE, GPA).\n",
    "\n",
    "100 accept/reject cases are given in the file 'school_dataset.json'."
   ]
  },
  {
   "cell_type": "code",
   "execution_count": 1,
   "metadata": {},
   "outputs": [
    {
     "name": "stdout",
     "output_type": "stream",
     "text": [
      "dict_keys(['TOEFL', 'GRE', 'GPA', 'Decision'])\n",
      "{'TOEFL': [81.0, 95.0, 88.0, 94.0, 99.0, 90.0, 90.0, 81.0, 85.0, 89.0, 93.0, 96.0, 87.0, 81.0, 85.0, 98.0, 84.0, 89.0, 98.0, 80.0, 92.0, 99.0, 84.0, 90.0, 98.0, 82.0, 90.0, 95.0, 93.0, 89.0, 84.0, 89.0, 87.0, 89.0, 87.0, 96.0, 95.0, 86.0, 91.0, 85.0, 89.0, 87.0, 93.0, 87.0, 89.0, 94.0, 88.0, 98.0, 83.0, 94.0, 95.0, 103.0, 106.0, 101.0, 97.0, 100.0, 104.0, 110.0, 110.0, 98.0, 95.0, 108.0, 109.0, 102.0, 107.0, 108.0, 104.0, 108.0, 95.0, 99.0, 99.0, 96.0, 109.0, 95.0, 105.0, 96.0, 100.0, 101.0, 97.0, 103.0, 103.0, 100.0, 106.0, 97.0, 98.0, 100.0, 101.0, 98.0, 109.0, 108.0, 116.0, 115.0, 116.0, 119.0, 117.0, 115.0, 116.0, 119.0, 115.0, 118.0], 'GRE': [315.0, 315.0, 318.0, 316.0, 315.0, 310.0, 311.0, 319.0, 316.0, 319.0, 322.0, 318.0, 310.0, 314.0, 317.0, 313.0, 322.0, 322.0, 321.0, 316.0, 320.0, 311.0, 314.0, 316.0, 319.0, 316.0, 311.0, 314.0, 314.0, 313.0, 312.0, 315.0, 315.0, 320.0, 320.0, 316.0, 315.0, 320.0, 321.0, 318.0, 320.0, 322.0, 310.0, 321.0, 313.0, 316.0, 320.0, 319.0, 311.0, 318.0, 321.0, 324.0, 322.0, 324.0, 323.0, 325.0, 330.0, 324.0, 327.0, 326.0, 328.0, 320.0, 328.0, 330.0, 326.0, 323.0, 327.0, 327.0, 327.0, 321.0, 330.0, 330.0, 324.0, 326.0, 320.0, 330.0, 329.0, 327.0, 328.0, 322.0, 323.0, 322.0, 326.0, 321.0, 329.0, 325.0, 324.0, 321.0, 327.0, 328.0, 331.0, 339.0, 335.0, 330.0, 339.0, 333.0, 337.0, 335.0, 330.0, 331.0], 'GPA': [2.56, 2.82, 3.23, 2.88, 3.04, 3.16, 3.24, 3.18, 2.51, 2.88, 2.92, 2.55, 2.99, 3.05, 3.25, 3.35, 2.62, 2.71, 3.09, 2.62, 2.7, 3.02, 2.65, 3.2, 3.27, 2.53, 2.98, 3.22, 3.38, 2.75, 2.65, 3.29, 3.32, 2.68, 2.9, 3.15, 3.26, 2.65, 3.1, 3.23, 2.99, 2.65, 2.53, 2.75, 3.23, 2.54, 2.51, 2.83, 2.56, 2.63, 3.49, 3.37, 3.54, 3.34, 3.55, 3.47, 3.39, 3.45, 3.49, 3.38, 3.55, 3.43, 3.57, 3.55, 3.33, 3.49, 3.39, 3.53, 3.46, 3.44, 3.57, 3.32, 3.47, 3.4, 3.31, 3.53, 3.47, 3.57, 3.48, 3.4, 3.6, 3.33, 3.32, 3.52, 3.41, 3.41, 3.56, 3.4, 3.57, 3.49, 3.91, 3.92, 3.91, 3.9, 3.99, 3.91, 3.95, 3.91, 3.92, 3.98], 'Decision': ['reject', 'reject', 'reject', 'reject', 'reject', 'reject', 'reject', 'reject', 'reject', 'reject', 'reject', 'reject', 'reject', 'reject', 'reject', 'reject', 'reject', 'reject', 'reject', 'reject', 'reject', 'reject', 'reject', 'reject', 'reject', 'reject', 'reject', 'reject', 'reject', 'reject', 'reject', 'reject', 'reject', 'reject', 'reject', 'reject', 'reject', 'reject', 'reject', 'reject', 'reject', 'reject', 'reject', 'reject', 'reject', 'reject', 'reject', 'reject', 'reject', 'reject', 'accept', 'accept', 'accept', 'accept', 'accept', 'accept', 'accept', 'accept', 'accept', 'accept', 'accept', 'accept', 'accept', 'accept', 'accept', 'accept', 'accept', 'accept', 'accept', 'accept', 'accept', 'accept', 'accept', 'accept', 'accept', 'accept', 'accept', 'accept', 'accept', 'accept', 'accept', 'accept', 'accept', 'accept', 'accept', 'accept', 'accept', 'accept', 'accept', 'accept', 'reject', 'reject', 'reject', 'reject', 'reject', 'reject', 'reject', 'reject', 'reject', 'reject']}\n"
     ]
    }
   ],
   "source": [
    "import json\n",
    "dataset = json.load(open('school_dataset.json'))\n",
    "print(dataset.keys())\n",
    "print(dataset)"
   ]
  },
  {
   "cell_type": "markdown",
   "metadata": {},
   "source": [
    "### What is the probability of these students being admitted?\n",
    "\n",
    "(1) TOEFL=98, GRE=315, GPA=3.3\n",
    "\n",
    "(2) TOEFL=110, GRE=325, GPA=3.7"
   ]
  },
  {
   "cell_type": "code",
   "execution_count": 90,
   "metadata": {
    "scrolled": false
   },
   "outputs": [
    {
     "name": "stdout",
     "output_type": "stream",
     "text": [
      "[[0.98966259 0.01033741]\n",
      " [0.588017   0.411983  ]]\n",
      "0.010337408091941225\n"
     ]
    }
   ],
   "source": [
    "import pandas as pd\n",
    "import numpy as np\n",
    "from sklearn.naive_bayes import GaussianNB\n",
    "\n",
    "data = pd.DataFrame(dataset)\n",
    "g = np.array(data)\n",
    "#print(g[:5, :])\n",
    "decision = data['Decision'].replace({'reject': 0, 'accept': 1})\n",
    "d = np.array(decision)\n",
    "\n",
    "# train the model\n",
    "model = GaussianNB()\n",
    "model.fit(g[:,1:4], d)\n",
    "\n",
    "result = model.predict_proba([[3.3, 315, 98],[3.7, 325, 110]])\n",
    "print(result)\n",
    "print(result[0,1])"
   ]
  },
  {
   "cell_type": "code",
   "execution_count": 98,
   "metadata": {},
   "outputs": [
    {
     "name": "stdout",
     "output_type": "stream",
     "text": [
      "the probability of student(1) being admitted: 0.010300\n",
      "the probability of student(2) being admitted: 0.412000\n"
     ]
    }
   ],
   "source": [
    "print('the probability of student(1) being admitted: %f' \n",
    "      % round(result[0,1],4))\n",
    "print('the probability of student(2) being admitted: %f' \n",
    "      % round(result[1,1],4))"
   ]
  }
 ],
 "metadata": {
  "kernelspec": {
   "display_name": "Python 3",
   "language": "python",
   "name": "python3"
  },
  "language_info": {
   "codemirror_mode": {
    "name": "ipython",
    "version": 3
   },
   "file_extension": ".py",
   "mimetype": "text/x-python",
   "name": "python",
   "nbconvert_exporter": "python",
   "pygments_lexer": "ipython3",
   "version": "3.6.4"
  }
 },
 "nbformat": 4,
 "nbformat_minor": 2
}
