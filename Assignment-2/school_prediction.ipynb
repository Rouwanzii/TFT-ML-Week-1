{
 "cells": [
  {
   "cell_type": "markdown",
   "metadata": {},
   "source": [
    "# School prediction\n",
    "\n",
    "Build a Naive Bayes Classifier that can predict whether a student can be admitted by the Computer Science Ph.D. program, University of Rochester, according to his/her (TOEFL, GRE, GPA).\n",
    "\n",
    "100 accept/reject cases are given in the file 'school_dataset.json'."
   ]
  },
  {
   "cell_type": "code",
   "execution_count": 7,
   "metadata": {},
   "outputs": [],
   "source": [
    "import json\n",
    "dataset = json.load(open('school_dataset.json'))\n",
    "print(dataset.keys())\n",
    "print(dataset)"
   ]
  },
  {
   "cell_type": "markdown",
   "metadata": {},
   "source": [
    "### What is the probability of these students being admitted?\n",
    "\n",
    "(1) TOEFL=98, GRE=315, GPA=3.3\n",
    "\n",
    "(2) TOEFL=110, GRE=325, GPA=3.7"
   ]
  },
  {
   "cell_type": "code",
   "execution_count": null,
   "metadata": {},
   "outputs": [],
   "source": []
  }
 ],
 "metadata": {
  "kernelspec": {
   "display_name": "Python 3",
   "language": "python",
   "name": "python3"
  },
  "language_info": {
   "codemirror_mode": {
    "name": "ipython",
    "version": 3
   },
   "file_extension": ".py",
   "mimetype": "text/x-python",
   "name": "python",
   "nbconvert_exporter": "python",
   "pygments_lexer": "ipython3",
   "version": "3.6.4"
  }
 },
 "nbformat": 4,
 "nbformat_minor": 2
}
